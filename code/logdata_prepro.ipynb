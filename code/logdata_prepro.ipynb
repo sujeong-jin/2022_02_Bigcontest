{
 "cells": [
  {
   "cell_type": "code",
   "execution_count": 1,
   "id": "4d1ed378",
   "metadata": {},
   "outputs": [],
   "source": [
    "import pandas as pd\n",
    "dat2 = pd.read_csv(\"../../../../../bigcontest/data/preprocessed/dat2.csv\")"
   ]
  },
  {
   "cell_type": "code",
   "execution_count": 2,
   "id": "8276f974",
   "metadata": {},
   "outputs": [],
   "source": [
    "dat2.drop('Unnamed: 0', axis = 1, inplace = True)"
   ]
  },
  {
   "cell_type": "code",
   "execution_count": 3,
   "id": "81d48b45",
   "metadata": {},
   "outputs": [],
   "source": [
    "dat2.groupby('user_id').max().to_csv(\"../../../../../bigcontest/data/preprocessed/dat3.csv\")"
   ]
  },
  {
   "cell_type": "code",
   "execution_count": 4,
   "id": "90b8f8b7",
   "metadata": {},
   "outputs": [
    {
     "data": {
      "text/plain": [
       "Index(['user_id', 'CompleteIDCertification', 'EndLoanApply', 'GetCreditInfo',\n",
       "       'Login', 'OpenApp', 'SignUp', 'StartLoanApply', 'UseDSRCalc',\n",
       "       'UseLoanManage', 'UsePrepayCalc', 'ViewLoanApplyIntro'],\n",
       "      dtype='object')"
      ]
     },
     "execution_count": 4,
     "metadata": {},
     "output_type": "execute_result"
    }
   ],
   "source": [
    "dat2.columns"
   ]
  }
 ],
 "metadata": {
  "kernelspec": {
   "display_name": "Python 3 (ipykernel)",
   "language": "python",
   "name": "python3"
  },
  "language_info": {
   "codemirror_mode": {
    "name": "ipython",
    "version": 3
   },
   "file_extension": ".py",
   "mimetype": "text/x-python",
   "name": "python",
   "nbconvert_exporter": "python",
   "pygments_lexer": "ipython3",
   "version": "3.9.12"
  }
 },
 "nbformat": 4,
 "nbformat_minor": 5
}
