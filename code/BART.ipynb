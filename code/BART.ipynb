{
  "nbformat": 4,
  "nbformat_minor": 0,
  "metadata": {
    "colab": {
      "provenance": []
    },
    "kernelspec": {
      "name": "python3",
      "display_name": "Python 3"
    },
    "language_info": {
      "name": "python"
    }
  },
  "cells": [
    {
      "cell_type": "markdown",
      "source": [
        "# BART: Bayesian Additive Regression Trees"
      ],
      "metadata": {
        "id": "rdZV2TrawtMZ"
      }
    },
    {
      "cell_type": "markdown",
      "source": [
        "> **BART 개요**\n",
        "- 트리의 합으로 f(x) = E(Y|x) 근사\n",
        "- 트리에 대해 prior을 둬서 regularization\n",
        "- Bayesian backfitting MCMC 로 fitting\n",
        ": iteratively construct and fit successive residuals  \n",
        "> \n",
        "- prior를 사용하여 모수가 많은 모델을 추정하는 Bayesian nonparametric approach로 볼 수 있음  \n",
        "- 각각의 트리는 f의 서로 다른 부분을 조금씩 설명하게 됨    \n",
        "(개별적인 트리의 posterior averaging과는 차이를 보임)"
      ],
      "metadata": {
        "id": "6r8WENNkFwY0"
      }
    },
    {
      "cell_type": "markdown",
      "source": [
        "$Y=g(x;T_1,M_1)+g(x;T_2,M_2)+...+g(x;T_m,M_m)+ \\sigma z,~~z~follows~N(0,1)$  \n",
        "- 트리의 합으로 f(x) = E(Y|x) 근사"
      ],
      "metadata": {
        "id": "-kR5tFR9l_e_"
      }
    },
    {
      "cell_type": "markdown",
      "source": [
        "$\\pi(\\theta)=\\pi((T_1,M_1),(T_2,M_2),...,(T_m,M_m),\\sigma)$  \n",
        "- $\\pi~~wants:~~T,\\mu~~small,~nice~~\\sigma$ \n",
        "- 트리에 $\\pi$ 라는 prior을 둬서 regularization  \n",
        "(각 g의 기여를 적게 함)"
      ],
      "metadata": {
        "id": "Oto9lsTQmy1U"
      }
    },
    {
      "cell_type": "markdown",
      "source": [
        "$Y=g(x;T_1,M_1)+g(x;T_2,M_2)+...+g(x;T_m,M_m)+ \\sigma z$  \n",
        "$~~~plus~~\\pi((T_1,M_1),(T_2,M_2),...,(T_m,M_m),\\sigma)$  \n",
        "- MCMC 로 모수 업데이트"
      ],
      "metadata": {
        "id": "IMH998rNoDZP"
      }
    },
    {
      "cell_type": "markdown",
      "source": [
        "> 각 모델 iteration마다 특정 변수의 등장 빈도를 계산하여 어떤 성분이 Y를 잘 설명하는지 알 수 있다.  \n",
        "> 예측을 위해서는 m을 크게, 변수 선택을 위해서는 m을 작게 설정하도록 한다."
      ],
      "metadata": {
        "id": "-MRsPEKZi4Dp"
      }
    },
    {
      "cell_type": "markdown",
      "source": [
        "> **Nice things about BART/PBART**: \n",
        "- don’t have to think about x’s (compare: add x2 j and use lasso). \n",
        "- don’t have to prespecify level of interaction (compare: boosting in R)\n",
        "- competitive out-of-sample.\n",
        "- stable MCMC. \n",
        "- stochastic search. \n",
        "- simple prior. \n",
        "- uncertainty. \n",
        "- small p and big n"
      ],
      "metadata": {
        "id": "No4qzh6LpbFm"
      }
    },
    {
      "cell_type": "markdown",
      "source": [
        "#1. 데이터 가져오기"
      ],
      "metadata": {
        "id": "8YsY1SRG9M35"
      }
    },
    {
      "cell_type": "code",
      "source": [
        "from google.colab import drive\n",
        "drive.mount('/content/drive')"
      ],
      "metadata": {
        "colab": {
          "base_uri": "https://localhost:8080/"
        },
        "id": "DjfradYx5j_D",
        "outputId": "cb134263-cbe1-4065-ed12-d9b9446f6f8c"
      },
      "execution_count": null,
      "outputs": [
        {
          "output_type": "stream",
          "name": "stdout",
          "text": [
            "Drive already mounted at /content/drive; to attempt to forcibly remount, call drive.mount(\"/content/drive\", force_remount=True).\n"
          ]
        }
      ]
    },
    {
      "cell_type": "code",
      "source": [
        "import os\n",
        "import pandas as pd\n",
        "\n",
        "os.chdir('/content/drive/MyDrive/Bigcam')"
      ],
      "metadata": {
        "id": "g0-0lYt59UYp"
      },
      "execution_count": null,
      "outputs": []
    },
    {
      "cell_type": "code",
      "source": [
        "train = pd.read_csv(\"train_data.csv\")\n",
        "test = pd.read_csv(\"test_data.csv\")"
      ],
      "metadata": {
        "id": "cemgI0BY9fYq"
      },
      "execution_count": null,
      "outputs": []
    },
    {
      "cell_type": "code",
      "source": [
        "train.head()"
      ],
      "metadata": {
        "colab": {
          "base_uri": "https://localhost:8080/",
          "height": 288
        },
        "id": "mrePHsP09-Ya",
        "outputId": "8371e9ae-5683-42c8-c474-3dc413694a83"
      },
      "execution_count": null,
      "outputs": [
        {
          "output_type": "execute_result",
          "data": {
            "text/plain": [
              "   is_applied  loan_limit  loan_rate  loan_limit_100million  \\\n",
              "0           0  24000000.0       17.1                  False   \n",
              "1           0  14000000.0       20.0                  False   \n",
              "2           0  12000000.0       13.9                  False   \n",
              "3           0  53000000.0       12.6                  False   \n",
              "4           0  10000000.0       14.3                  False   \n",
              "\n",
              "   CompleteIDCertification  EndLoanApply  credit_score  yearly_income  \\\n",
              "0                        2             1         640.0     28000000.0   \n",
              "1                        1             7         700.0     30000000.0   \n",
              "2                        3             4         960.0     45000000.0   \n",
              "3                        0             2         890.0     50000000.0   \n",
              "4                       24            78         630.0     55000000.0   \n",
              "\n",
              "    income_type employment_type houseown_type  desired_amount purpose  \\\n",
              "0  EARNEDINCOME             정규직        기타가족소유       5000000.0     생활비   \n",
              "1    FREELANCER              기타           전월세      15000000.0  전월세보증금   \n",
              "2  EARNEDINCOME             정규직        기타가족소유      20000000.0     생활비   \n",
              "3  EARNEDINCOME             정규직           전월세      50000000.0     생활비   \n",
              "4  EARNEDINCOME             정규직           전월세      50000000.0     생활비   \n",
              "\n",
              "   personal_rehabilitation_yn  personal_rehabilitation_complete_yn  \\\n",
              "0                           0                                    0   \n",
              "1                           0                                    1   \n",
              "2                           0                                    1   \n",
              "3                           0                                    1   \n",
              "4                           0                                    1   \n",
              "\n",
              "   existing_loan_cnt  existing_loan_amt  birth_year  gender  company_time  \n",
              "0                  6         35000000.0        1988       1            36  \n",
              "1                  1         10000000.0        1990       0             0  \n",
              "2                  2         39000000.0        1975       1            51  \n",
              "3                  3         33000000.0        1981       1            36  \n",
              "4                  1         51000000.0        1977       1             9  "
            ],
            "text/html": [
              "\n",
              "  <div id=\"df-8220ba7f-5469-4fdb-b425-ab2d9b63afbc\">\n",
              "    <div class=\"colab-df-container\">\n",
              "      <div>\n",
              "<style scoped>\n",
              "    .dataframe tbody tr th:only-of-type {\n",
              "        vertical-align: middle;\n",
              "    }\n",
              "\n",
              "    .dataframe tbody tr th {\n",
              "        vertical-align: top;\n",
              "    }\n",
              "\n",
              "    .dataframe thead th {\n",
              "        text-align: right;\n",
              "    }\n",
              "</style>\n",
              "<table border=\"1\" class=\"dataframe\">\n",
              "  <thead>\n",
              "    <tr style=\"text-align: right;\">\n",
              "      <th></th>\n",
              "      <th>is_applied</th>\n",
              "      <th>loan_limit</th>\n",
              "      <th>loan_rate</th>\n",
              "      <th>loan_limit_100million</th>\n",
              "      <th>CompleteIDCertification</th>\n",
              "      <th>EndLoanApply</th>\n",
              "      <th>credit_score</th>\n",
              "      <th>yearly_income</th>\n",
              "      <th>income_type</th>\n",
              "      <th>employment_type</th>\n",
              "      <th>houseown_type</th>\n",
              "      <th>desired_amount</th>\n",
              "      <th>purpose</th>\n",
              "      <th>personal_rehabilitation_yn</th>\n",
              "      <th>personal_rehabilitation_complete_yn</th>\n",
              "      <th>existing_loan_cnt</th>\n",
              "      <th>existing_loan_amt</th>\n",
              "      <th>birth_year</th>\n",
              "      <th>gender</th>\n",
              "      <th>company_time</th>\n",
              "    </tr>\n",
              "  </thead>\n",
              "  <tbody>\n",
              "    <tr>\n",
              "      <th>0</th>\n",
              "      <td>0</td>\n",
              "      <td>24000000.0</td>\n",
              "      <td>17.1</td>\n",
              "      <td>False</td>\n",
              "      <td>2</td>\n",
              "      <td>1</td>\n",
              "      <td>640.0</td>\n",
              "      <td>28000000.0</td>\n",
              "      <td>EARNEDINCOME</td>\n",
              "      <td>정규직</td>\n",
              "      <td>기타가족소유</td>\n",
              "      <td>5000000.0</td>\n",
              "      <td>생활비</td>\n",
              "      <td>0</td>\n",
              "      <td>0</td>\n",
              "      <td>6</td>\n",
              "      <td>35000000.0</td>\n",
              "      <td>1988</td>\n",
              "      <td>1</td>\n",
              "      <td>36</td>\n",
              "    </tr>\n",
              "    <tr>\n",
              "      <th>1</th>\n",
              "      <td>0</td>\n",
              "      <td>14000000.0</td>\n",
              "      <td>20.0</td>\n",
              "      <td>False</td>\n",
              "      <td>1</td>\n",
              "      <td>7</td>\n",
              "      <td>700.0</td>\n",
              "      <td>30000000.0</td>\n",
              "      <td>FREELANCER</td>\n",
              "      <td>기타</td>\n",
              "      <td>전월세</td>\n",
              "      <td>15000000.0</td>\n",
              "      <td>전월세보증금</td>\n",
              "      <td>0</td>\n",
              "      <td>1</td>\n",
              "      <td>1</td>\n",
              "      <td>10000000.0</td>\n",
              "      <td>1990</td>\n",
              "      <td>0</td>\n",
              "      <td>0</td>\n",
              "    </tr>\n",
              "    <tr>\n",
              "      <th>2</th>\n",
              "      <td>0</td>\n",
              "      <td>12000000.0</td>\n",
              "      <td>13.9</td>\n",
              "      <td>False</td>\n",
              "      <td>3</td>\n",
              "      <td>4</td>\n",
              "      <td>960.0</td>\n",
              "      <td>45000000.0</td>\n",
              "      <td>EARNEDINCOME</td>\n",
              "      <td>정규직</td>\n",
              "      <td>기타가족소유</td>\n",
              "      <td>20000000.0</td>\n",
              "      <td>생활비</td>\n",
              "      <td>0</td>\n",
              "      <td>1</td>\n",
              "      <td>2</td>\n",
              "      <td>39000000.0</td>\n",
              "      <td>1975</td>\n",
              "      <td>1</td>\n",
              "      <td>51</td>\n",
              "    </tr>\n",
              "    <tr>\n",
              "      <th>3</th>\n",
              "      <td>0</td>\n",
              "      <td>53000000.0</td>\n",
              "      <td>12.6</td>\n",
              "      <td>False</td>\n",
              "      <td>0</td>\n",
              "      <td>2</td>\n",
              "      <td>890.0</td>\n",
              "      <td>50000000.0</td>\n",
              "      <td>EARNEDINCOME</td>\n",
              "      <td>정규직</td>\n",
              "      <td>전월세</td>\n",
              "      <td>50000000.0</td>\n",
              "      <td>생활비</td>\n",
              "      <td>0</td>\n",
              "      <td>1</td>\n",
              "      <td>3</td>\n",
              "      <td>33000000.0</td>\n",
              "      <td>1981</td>\n",
              "      <td>1</td>\n",
              "      <td>36</td>\n",
              "    </tr>\n",
              "    <tr>\n",
              "      <th>4</th>\n",
              "      <td>0</td>\n",
              "      <td>10000000.0</td>\n",
              "      <td>14.3</td>\n",
              "      <td>False</td>\n",
              "      <td>24</td>\n",
              "      <td>78</td>\n",
              "      <td>630.0</td>\n",
              "      <td>55000000.0</td>\n",
              "      <td>EARNEDINCOME</td>\n",
              "      <td>정규직</td>\n",
              "      <td>전월세</td>\n",
              "      <td>50000000.0</td>\n",
              "      <td>생활비</td>\n",
              "      <td>0</td>\n",
              "      <td>1</td>\n",
              "      <td>1</td>\n",
              "      <td>51000000.0</td>\n",
              "      <td>1977</td>\n",
              "      <td>1</td>\n",
              "      <td>9</td>\n",
              "    </tr>\n",
              "  </tbody>\n",
              "</table>\n",
              "</div>\n",
              "      <button class=\"colab-df-convert\" onclick=\"convertToInteractive('df-8220ba7f-5469-4fdb-b425-ab2d9b63afbc')\"\n",
              "              title=\"Convert this dataframe to an interactive table.\"\n",
              "              style=\"display:none;\">\n",
              "        \n",
              "  <svg xmlns=\"http://www.w3.org/2000/svg\" height=\"24px\"viewBox=\"0 0 24 24\"\n",
              "       width=\"24px\">\n",
              "    <path d=\"M0 0h24v24H0V0z\" fill=\"none\"/>\n",
              "    <path d=\"M18.56 5.44l.94 2.06.94-2.06 2.06-.94-2.06-.94-.94-2.06-.94 2.06-2.06.94zm-11 1L8.5 8.5l.94-2.06 2.06-.94-2.06-.94L8.5 2.5l-.94 2.06-2.06.94zm10 10l.94 2.06.94-2.06 2.06-.94-2.06-.94-.94-2.06-.94 2.06-2.06.94z\"/><path d=\"M17.41 7.96l-1.37-1.37c-.4-.4-.92-.59-1.43-.59-.52 0-1.04.2-1.43.59L10.3 9.45l-7.72 7.72c-.78.78-.78 2.05 0 2.83L4 21.41c.39.39.9.59 1.41.59.51 0 1.02-.2 1.41-.59l7.78-7.78 2.81-2.81c.8-.78.8-2.07 0-2.86zM5.41 20L4 18.59l7.72-7.72 1.47 1.35L5.41 20z\"/>\n",
              "  </svg>\n",
              "      </button>\n",
              "      \n",
              "  <style>\n",
              "    .colab-df-container {\n",
              "      display:flex;\n",
              "      flex-wrap:wrap;\n",
              "      gap: 12px;\n",
              "    }\n",
              "\n",
              "    .colab-df-convert {\n",
              "      background-color: #E8F0FE;\n",
              "      border: none;\n",
              "      border-radius: 50%;\n",
              "      cursor: pointer;\n",
              "      display: none;\n",
              "      fill: #1967D2;\n",
              "      height: 32px;\n",
              "      padding: 0 0 0 0;\n",
              "      width: 32px;\n",
              "    }\n",
              "\n",
              "    .colab-df-convert:hover {\n",
              "      background-color: #E2EBFA;\n",
              "      box-shadow: 0px 1px 2px rgba(60, 64, 67, 0.3), 0px 1px 3px 1px rgba(60, 64, 67, 0.15);\n",
              "      fill: #174EA6;\n",
              "    }\n",
              "\n",
              "    [theme=dark] .colab-df-convert {\n",
              "      background-color: #3B4455;\n",
              "      fill: #D2E3FC;\n",
              "    }\n",
              "\n",
              "    [theme=dark] .colab-df-convert:hover {\n",
              "      background-color: #434B5C;\n",
              "      box-shadow: 0px 1px 3px 1px rgba(0, 0, 0, 0.15);\n",
              "      filter: drop-shadow(0px 1px 2px rgba(0, 0, 0, 0.3));\n",
              "      fill: #FFFFFF;\n",
              "    }\n",
              "  </style>\n",
              "\n",
              "      <script>\n",
              "        const buttonEl =\n",
              "          document.querySelector('#df-8220ba7f-5469-4fdb-b425-ab2d9b63afbc button.colab-df-convert');\n",
              "        buttonEl.style.display =\n",
              "          google.colab.kernel.accessAllowed ? 'block' : 'none';\n",
              "\n",
              "        async function convertToInteractive(key) {\n",
              "          const element = document.querySelector('#df-8220ba7f-5469-4fdb-b425-ab2d9b63afbc');\n",
              "          const dataTable =\n",
              "            await google.colab.kernel.invokeFunction('convertToInteractive',\n",
              "                                                     [key], {});\n",
              "          if (!dataTable) return;\n",
              "\n",
              "          const docLinkHtml = 'Like what you see? Visit the ' +\n",
              "            '<a target=\"_blank\" href=https://colab.research.google.com/notebooks/data_table.ipynb>data table notebook</a>'\n",
              "            + ' to learn more about interactive tables.';\n",
              "          element.innerHTML = '';\n",
              "          dataTable['output_type'] = 'display_data';\n",
              "          await google.colab.output.renderOutput(dataTable, element);\n",
              "          const docLink = document.createElement('div');\n",
              "          docLink.innerHTML = docLinkHtml;\n",
              "          element.appendChild(docLink);\n",
              "        }\n",
              "      </script>\n",
              "    </div>\n",
              "  </div>\n",
              "  "
            ]
          },
          "metadata": {},
          "execution_count": 4
        }
      ]
    },
    {
      "cell_type": "markdown",
      "source": [
        "# 2. Bart"
      ],
      "metadata": {
        "id": "NdtNweO_-OyB"
      }
    },
    {
      "cell_type": "code",
      "source": [
        "!pip3 install git+https://github.com/JakeColtman/bartpy.git --upgrade"
      ],
      "metadata": {
        "colab": {
          "base_uri": "https://localhost:8080/"
        },
        "id": "MRLy9A77-fFh",
        "outputId": "428e2a0b-1558-4d27-8e4d-41e7870bdad0"
      },
      "execution_count": null,
      "outputs": [
        {
          "output_type": "stream",
          "name": "stdout",
          "text": [
            "Looking in indexes: https://pypi.org/simple, https://us-python.pkg.dev/colab-wheels/public/simple/\n",
            "Collecting git+https://github.com/JakeColtman/bartpy.git\n",
            "  Cloning https://github.com/JakeColtman/bartpy.git to /tmp/pip-req-build-gzdojkqj\n",
            "  Running command git clone -q https://github.com/JakeColtman/bartpy.git /tmp/pip-req-build-gzdojkqj\n",
            "Requirement already satisfied: joblib in /usr/local/lib/python3.7/dist-packages (from bartpy==0.0.2) (1.1.0)\n",
            "Requirement already satisfied: matplotlib in /usr/local/lib/python3.7/dist-packages (from bartpy==0.0.2) (3.2.2)\n",
            "Requirement already satisfied: numpy in /usr/local/lib/python3.7/dist-packages (from bartpy==0.0.2) (1.21.6)\n",
            "Requirement already satisfied: pandas in /usr/local/lib/python3.7/dist-packages (from bartpy==0.0.2) (1.3.5)\n",
            "Requirement already satisfied: scipy in /usr/local/lib/python3.7/dist-packages (from bartpy==0.0.2) (1.7.3)\n",
            "Requirement already satisfied: seaborn in /usr/local/lib/python3.7/dist-packages (from bartpy==0.0.2) (0.11.2)\n",
            "Requirement already satisfied: sklearn in /usr/local/lib/python3.7/dist-packages (from bartpy==0.0.2) (0.0)\n",
            "Requirement already satisfied: statsmodels in /usr/local/lib/python3.7/dist-packages (from bartpy==0.0.2) (0.12.2)\n",
            "Requirement already satisfied: tqdm in /usr/local/lib/python3.7/dist-packages (from bartpy==0.0.2) (4.64.1)\n",
            "Requirement already satisfied: kiwisolver>=1.0.1 in /usr/local/lib/python3.7/dist-packages (from matplotlib->bartpy==0.0.2) (1.4.4)\n",
            "Requirement already satisfied: python-dateutil>=2.1 in /usr/local/lib/python3.7/dist-packages (from matplotlib->bartpy==0.0.2) (2.8.2)\n",
            "Requirement already satisfied: cycler>=0.10 in /usr/local/lib/python3.7/dist-packages (from matplotlib->bartpy==0.0.2) (0.11.0)\n",
            "Requirement already satisfied: pyparsing!=2.0.4,!=2.1.2,!=2.1.6,>=2.0.1 in /usr/local/lib/python3.7/dist-packages (from matplotlib->bartpy==0.0.2) (3.0.9)\n",
            "Requirement already satisfied: typing-extensions in /usr/local/lib/python3.7/dist-packages (from kiwisolver>=1.0.1->matplotlib->bartpy==0.0.2) (4.1.1)\n",
            "Requirement already satisfied: six>=1.5 in /usr/local/lib/python3.7/dist-packages (from python-dateutil>=2.1->matplotlib->bartpy==0.0.2) (1.15.0)\n",
            "Requirement already satisfied: pytz>=2017.3 in /usr/local/lib/python3.7/dist-packages (from pandas->bartpy==0.0.2) (2022.2.1)\n",
            "Requirement already satisfied: scikit-learn in /usr/local/lib/python3.7/dist-packages (from sklearn->bartpy==0.0.2) (1.0.2)\n",
            "Requirement already satisfied: threadpoolctl>=2.0.0 in /usr/local/lib/python3.7/dist-packages (from scikit-learn->sklearn->bartpy==0.0.2) (3.1.0)\n",
            "Requirement already satisfied: patsy>=0.5 in /usr/local/lib/python3.7/dist-packages (from statsmodels->bartpy==0.0.2) (0.5.2)\n"
          ]
        }
      ]
    },
    {
      "cell_type": "code",
      "execution_count": null,
      "metadata": {
        "id": "gC6QrO0zwfhg"
      },
      "outputs": [],
      "source": [
        "from bartpy.sklearnmodel import SklearnModel\n",
        "from sklearn.model_selection import GridSearchCV\n",
        "from sklearn.metrics import classification_report\n",
        "\n",
        "X_train = train.drop('is_applied', axis = 1)\n",
        "y_train = train['is_applied']\n",
        "X_test = test.drop('is_applied', axis = 1)\n",
        "y_test = test['is_applied']"
      ]
    },
    {
      "cell_type": "markdown",
      "source": [
        "> **Parameters**:\t\n",
        "- n_trees (int) – the number of trees to use, more trees will make a smoother fit, but slow training and fitting\n",
        "- sigma_a (float) – shape parameter of the prior on sigma\n",
        "- sigma_b (float) – scale parameter of the prior on sigma\n",
        "- n_samples (int) – how many recorded samples to take\n",
        "- n_burn (int) – how many samples to run without recording to reach convergence\n",
        "- p_grow (float) – probability of choosing a grow mutation in tree mutation sampling\n",
        "- p_prune (float) – probability of choosing a prune mutation in tree mutation sampling\n",
        "- alpha (float) – prior parameter on tree structure\n",
        "- beta (float) – prior parameter on tree structure"
      ],
      "metadata": {
        "id": "qI5x8DGedurf"
      }
    },
    {
      "cell_type": "markdown",
      "source": [
        "![image.png](data:image/png;base64,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)"
      ],
      "metadata": {
        "id": "mroy-YW3ibAf"
      }
    },
    {
      "cell_type": "code",
      "source": [
        "bart = SklearnModel(n_samples = 500, n_burn = 500, n_chains = 1)\n",
        "parameters = {'n_trees': [50, 100]}"
      ],
      "metadata": {
        "id": "RYx3KGmq5hzZ"
      },
      "execution_count": null,
      "outputs": []
    },
    {
      "cell_type": "code",
      "source": [
        "grid_search = GridSearchCV(bart, parameters, cv = 3, scoring = 'f1_micro')\n",
        "grid_search.fit(X_train,y_train)\n",
        "print(grid_search.best_params_)"
      ],
      "metadata": {
        "id": "T0jfYuwUl_YK"
      },
      "execution_count": null,
      "outputs": []
    },
    {
      "cell_type": "code",
      "source": [
        "best_bart = SklearnModel(n_samples = 100, n_burn = 100, n_chains = 1, n_jobs = 1, n_trees = 50)\n",
        "best_bart.fit(X_train,y_train)\n",
        "prediction = best_bart.predict(X_test)\n",
        "report = classification_report(y_test,prediction)\n",
        "print(report)"
      ],
      "metadata": {
        "id": "2VfBdFt5mIzj"
      },
      "execution_count": null,
      "outputs": []
    },
    {
      "cell_type": "code",
      "source": [],
      "metadata": {
        "id": "W5bUudkitCX_"
      },
      "execution_count": null,
      "outputs": []
    }
  ]
}