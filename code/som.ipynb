{
 "cells": [
  {
   "cell_type": "code",
   "execution_count": 7,
   "id": "77fa237a",
   "metadata": {},
   "outputs": [],
   "source": [
    "import pandas as pd\n",
    "import numpy as np\n",
    "from sklearn.datasets import load_digits\n",
    "\n",
    "data = pd.read_csv(\"../../../../../bigcontest/data/preprocessed/dat2.csv\")"
   ]
  },
  {
   "cell_type": "code",
   "execution_count": 9,
   "id": "cde875d6",
   "metadata": {
    "scrolled": true
   },
   "outputs": [
    {
     "data": {
      "text/plain": [
       "Index(['Unnamed: 0', 'user_id', 'CompleteIDCertification', 'EndLoanApply',\n",
       "       'GetCreditInfo', 'Login', 'OpenApp', 'SignUp', 'StartLoanApply',\n",
       "       'UseDSRCalc', 'UseLoanManage', 'UsePrepayCalc', 'ViewLoanApplyIntro'],\n",
       "      dtype='object')"
      ]
     },
     "execution_count": 9,
     "metadata": {},
     "output_type": "execute_result"
    }
   ],
   "source": [
    "data.columns"
   ]
  },
  {
   "cell_type": "code",
   "execution_count": 11,
   "id": "5dff28fb",
   "metadata": {},
   "outputs": [],
   "source": [
    "dat2 = data.drop(['Unnamed: 0', 'user_id'], axis = 1)"
   ]
  },
  {
   "cell_type": "code",
   "execution_count": 69,
   "id": "33a8accb",
   "metadata": {},
   "outputs": [],
   "source": [
    "dat2_temp = np.array(dat2.iloc[0:1000, :])"
   ]
  },
  {
   "cell_type": "code",
   "execution_count": 50,
   "id": "1aa37046",
   "metadata": {},
   "outputs": [
    {
     "data": {
      "text/plain": [
       "(1000, 11)"
      ]
     },
     "execution_count": 50,
     "metadata": {},
     "output_type": "execute_result"
    }
   ],
   "source": [
    "dat2_temp.shape"
   ]
  },
  {
   "cell_type": "code",
   "execution_count": 51,
   "id": "7ffd1ddb",
   "metadata": {},
   "outputs": [],
   "source": [
    "from sklearn import datasets\n",
    "\n",
    "iris = datasets.load_iris()\n",
    "iris_data = iris.data[:, :2]\n",
    "iris_label = iris.target"
   ]
  },
  {
   "cell_type": "code",
   "execution_count": 52,
   "id": "04cff816",
   "metadata": {},
   "outputs": [
    {
     "data": {
      "text/plain": [
       "(150, 2)"
      ]
     },
     "execution_count": 52,
     "metadata": {},
     "output_type": "execute_result"
    }
   ],
   "source": [
    "iris_data.shape"
   ]
  },
  {
   "cell_type": "code",
   "execution_count": 39,
   "id": "87d3e34a",
   "metadata": {},
   "outputs": [],
   "source": [
    "from sklearn_som.som import SOM"
   ]
  },
  {
   "cell_type": "code",
   "execution_count": 70,
   "id": "0e70eb2f",
   "metadata": {},
   "outputs": [],
   "source": [
    "som = SOM(m=2, n=2, dim=11)\n",
    "som.fit(np.array(dat2_temp))"
   ]
  },
  {
   "cell_type": "code",
   "execution_count": 71,
   "id": "856eb279",
   "metadata": {},
   "outputs": [],
   "source": [
    "predictions = som.predict(np.array(dat2_temp))"
   ]
  },
  {
   "cell_type": "code",
   "execution_count": 75,
   "id": "dc669712",
   "metadata": {},
   "outputs": [
    {
     "data": {
      "text/plain": [
       "(1000,)"
      ]
     },
     "execution_count": 75,
     "metadata": {},
     "output_type": "execute_result"
    }
   ],
   "source": [
    "predictions.shape"
   ]
  }
 ],
 "metadata": {
  "kernelspec": {
   "display_name": "Python 3 (ipykernel)",
   "language": "python",
   "name": "python3"
  },
  "language_info": {
   "codemirror_mode": {
    "name": "ipython",
    "version": 3
   },
   "file_extension": ".py",
   "mimetype": "text/x-python",
   "name": "python",
   "nbconvert_exporter": "python",
   "pygments_lexer": "ipython3",
   "version": "3.9.12"
  }
 },
 "nbformat": 4,
 "nbformat_minor": 5
}
