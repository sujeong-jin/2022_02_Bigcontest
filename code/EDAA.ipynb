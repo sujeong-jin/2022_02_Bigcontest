{
 "cells": [
  {
   "cell_type": "markdown",
   "id": "46d1caf6-3da6-4d88-b197-9c8a2815565f",
   "metadata": {
    "id": "46d1caf6-3da6-4d88-b197-9c8a2815565f"
   },
   "source": [
    "# Bigcontest 데이터 탐색"
   ]
  },
  {
   "cell_type": "markdown",
   "id": "891ea746-3049-4943-a869-1d85e0e600c5",
   "metadata": {
    "id": "891ea746-3049-4943-a869-1d85e0e600c5",
    "tags": []
   },
   "source": [
    "## 0. library Packages"
   ]
  },
  {
   "cell_type": "code",
   "execution_count": 1,
   "id": "5970345d-44c4-4444-a034-324aae21a2c9",
   "metadata": {
    "id": "5970345d-44c4-4444-a034-324aae21a2c9"
   },
   "outputs": [],
   "source": [
    "import pandas as pd\n",
    "import numpy as np"
   ]
  },
  {
   "cell_type": "markdown",
   "id": "d01e5cc1-385b-4146-8daa-d7eecc6f9846",
   "metadata": {
    "id": "d01e5cc1-385b-4146-8daa-d7eecc6f9846"
   },
   "source": [
    "## 1. Import Data"
   ]
  },
  {
   "cell_type": "code",
   "execution_count": 2,
   "id": "5703cdc7-5acd-41d9-a7f9-29b23c2f8c68",
   "metadata": {
    "id": "5703cdc7-5acd-41d9-a7f9-29b23c2f8c68"
   },
   "outputs": [],
   "source": [
    "loan_result = pd.read_csv(\"../../../../bigcontest/data/loan_result.csv\")\n",
    "log_data = pd.read_csv(\"../../../../bigcontest/data/log_data.csv\")\n",
    "user_spec = pd.read_csv(\"../../../../bigcontest/data/user_spec_new.csv\")"
   ]
  },
  {
   "cell_type": "markdown",
   "id": "f708c262-7f88-4493-af42-6e32f25a0832",
   "metadata": {
    "id": "f708c262-7f88-4493-af42-6e32f25a0832",
    "tags": []
   },
   "source": [
    "## 2. Preview & Preprocessing"
   ]
  },
  {
   "cell_type": "markdown",
   "id": "81a57500-54fd-4833-9db1-870a9cef05e2",
   "metadata": {
    "id": "81a57500-54fd-4833-9db1-870a9cef05e2"
   },
   "source": [
    "### 2-1) loan_result"
   ]
  },
  {
   "cell_type": "markdown",
   "id": "d88dac5b-b924-456c-8f3f-c3c61ffefb1c",
   "metadata": {
    "id": "d88dac5b-b924-456c-8f3f-c3c61ffefb1c"
   },
   "source": [
    "![loan_result](../img/loan_result_describe.png)"
   ]
  },
  {
   "cell_type": "code",
   "execution_count": 3,
   "id": "70bd8e24-5fbb-49db-90e5-26a7d3098b9c",
   "metadata": {
    "scrolled": false
   },
   "outputs": [
    {
     "data": {
      "text/html": [
       "<div>\n",
       "<style scoped>\n",
       "    .dataframe tbody tr th:only-of-type {\n",
       "        vertical-align: middle;\n",
       "    }\n",
       "\n",
       "    .dataframe tbody tr th {\n",
       "        vertical-align: top;\n",
       "    }\n",
       "\n",
       "    .dataframe thead th {\n",
       "        text-align: right;\n",
       "    }\n",
       "</style>\n",
       "<table border=\"1\" class=\"dataframe\">\n",
       "  <thead>\n",
       "    <tr style=\"text-align: right;\">\n",
       "      <th></th>\n",
       "      <th>application_id</th>\n",
       "      <th>loanapply_insert_time</th>\n",
       "      <th>bank_id</th>\n",
       "      <th>product_id</th>\n",
       "      <th>loan_limit</th>\n",
       "      <th>loan_rate</th>\n",
       "      <th>is_applied</th>\n",
       "    </tr>\n",
       "  </thead>\n",
       "  <tbody>\n",
       "    <tr>\n",
       "      <th>0</th>\n",
       "      <td>1748340</td>\n",
       "      <td>2022-06-07 13:05:41</td>\n",
       "      <td>7</td>\n",
       "      <td>191</td>\n",
       "      <td>42000000.0</td>\n",
       "      <td>13.6</td>\n",
       "      <td>NaN</td>\n",
       "    </tr>\n",
       "    <tr>\n",
       "      <th>1</th>\n",
       "      <td>1748340</td>\n",
       "      <td>2022-06-07 13:05:41</td>\n",
       "      <td>25</td>\n",
       "      <td>169</td>\n",
       "      <td>24000000.0</td>\n",
       "      <td>17.9</td>\n",
       "      <td>NaN</td>\n",
       "    </tr>\n",
       "    <tr>\n",
       "      <th>2</th>\n",
       "      <td>1748340</td>\n",
       "      <td>2022-06-07 13:05:41</td>\n",
       "      <td>2</td>\n",
       "      <td>7</td>\n",
       "      <td>24000000.0</td>\n",
       "      <td>18.5</td>\n",
       "      <td>NaN</td>\n",
       "    </tr>\n",
       "    <tr>\n",
       "      <th>3</th>\n",
       "      <td>1748340</td>\n",
       "      <td>2022-06-07 13:05:41</td>\n",
       "      <td>4</td>\n",
       "      <td>268</td>\n",
       "      <td>29000000.0</td>\n",
       "      <td>10.8</td>\n",
       "      <td>NaN</td>\n",
       "    </tr>\n",
       "    <tr>\n",
       "      <th>4</th>\n",
       "      <td>1748340</td>\n",
       "      <td>2022-06-07 13:05:41</td>\n",
       "      <td>11</td>\n",
       "      <td>118</td>\n",
       "      <td>5000000.0</td>\n",
       "      <td>16.4</td>\n",
       "      <td>NaN</td>\n",
       "    </tr>\n",
       "    <tr>\n",
       "      <th>...</th>\n",
       "      <td>...</td>\n",
       "      <td>...</td>\n",
       "      <td>...</td>\n",
       "      <td>...</td>\n",
       "      <td>...</td>\n",
       "      <td>...</td>\n",
       "      <td>...</td>\n",
       "    </tr>\n",
       "    <tr>\n",
       "      <th>13527358</th>\n",
       "      <td>1428218</td>\n",
       "      <td>2022-06-03 12:01:58</td>\n",
       "      <td>62</td>\n",
       "      <td>200</td>\n",
       "      <td>3000000.0</td>\n",
       "      <td>14.8</td>\n",
       "      <td>NaN</td>\n",
       "    </tr>\n",
       "    <tr>\n",
       "      <th>13527359</th>\n",
       "      <td>1428218</td>\n",
       "      <td>2022-06-03 12:01:49</td>\n",
       "      <td>2</td>\n",
       "      <td>7</td>\n",
       "      <td>40000000.0</td>\n",
       "      <td>11.8</td>\n",
       "      <td>NaN</td>\n",
       "    </tr>\n",
       "    <tr>\n",
       "      <th>13527360</th>\n",
       "      <td>1428218</td>\n",
       "      <td>2022-06-03 12:01:48</td>\n",
       "      <td>32</td>\n",
       "      <td>257</td>\n",
       "      <td>15000000.0</td>\n",
       "      <td>7.2</td>\n",
       "      <td>NaN</td>\n",
       "    </tr>\n",
       "    <tr>\n",
       "      <th>13527361</th>\n",
       "      <td>1428218</td>\n",
       "      <td>2022-06-03 12:01:48</td>\n",
       "      <td>33</td>\n",
       "      <td>110</td>\n",
       "      <td>44000000.0</td>\n",
       "      <td>13.5</td>\n",
       "      <td>NaN</td>\n",
       "    </tr>\n",
       "    <tr>\n",
       "      <th>13527362</th>\n",
       "      <td>1428218</td>\n",
       "      <td>2022-06-03 12:01:48</td>\n",
       "      <td>5</td>\n",
       "      <td>194</td>\n",
       "      <td>44000000.0</td>\n",
       "      <td>9.7</td>\n",
       "      <td>NaN</td>\n",
       "    </tr>\n",
       "  </tbody>\n",
       "</table>\n",
       "<p>13527363 rows × 7 columns</p>\n",
       "</div>"
      ],
      "text/plain": [
       "          application_id loanapply_insert_time  bank_id  product_id  \\\n",
       "0                1748340   2022-06-07 13:05:41        7         191   \n",
       "1                1748340   2022-06-07 13:05:41       25         169   \n",
       "2                1748340   2022-06-07 13:05:41        2           7   \n",
       "3                1748340   2022-06-07 13:05:41        4         268   \n",
       "4                1748340   2022-06-07 13:05:41       11         118   \n",
       "...                  ...                   ...      ...         ...   \n",
       "13527358         1428218   2022-06-03 12:01:58       62         200   \n",
       "13527359         1428218   2022-06-03 12:01:49        2           7   \n",
       "13527360         1428218   2022-06-03 12:01:48       32         257   \n",
       "13527361         1428218   2022-06-03 12:01:48       33         110   \n",
       "13527362         1428218   2022-06-03 12:01:48        5         194   \n",
       "\n",
       "          loan_limit  loan_rate  is_applied  \n",
       "0         42000000.0       13.6         NaN  \n",
       "1         24000000.0       17.9         NaN  \n",
       "2         24000000.0       18.5         NaN  \n",
       "3         29000000.0       10.8         NaN  \n",
       "4          5000000.0       16.4         NaN  \n",
       "...              ...        ...         ...  \n",
       "13527358   3000000.0       14.8         NaN  \n",
       "13527359  40000000.0       11.8         NaN  \n",
       "13527360  15000000.0        7.2         NaN  \n",
       "13527361  44000000.0       13.5         NaN  \n",
       "13527362  44000000.0        9.7         NaN  \n",
       "\n",
       "[13527363 rows x 7 columns]"
      ]
     },
     "execution_count": 3,
     "metadata": {},
     "output_type": "execute_result"
    }
   ],
   "source": [
    "loan_result"
   ]
  },
  {
   "cell_type": "markdown",
   "id": "ef0e0521-0fd6-4ba3-a073-bd917651849b",
   "metadata": {
    "id": "ef0e0521-0fd6-4ba3-a073-bd917651849b"
   },
   "source": [
    "13,527,363 행과 7열로 데이터의 행 개수가 많음"
   ]
  },
  {
   "cell_type": "code",
   "execution_count": 4,
   "id": "a4320824",
   "metadata": {
    "scrolled": true
   },
   "outputs": [
    {
     "data": {
      "text/plain": [
       "application_id                 0\n",
       "loanapply_insert_time          0\n",
       "bank_id                        0\n",
       "product_id                     0\n",
       "loan_limit                  7495\n",
       "loan_rate                   7495\n",
       "is_applied               3257239\n",
       "dtype: int64"
      ]
     },
     "execution_count": 4,
     "metadata": {},
     "output_type": "execute_result"
    }
   ],
   "source": [
    "loan_result.isnull().sum()"
   ]
  },
  {
   "cell_type": "code",
   "execution_count": 7,
   "id": "eef5ba86-f3dc-4db6-8fad-35a6b3616082",
   "metadata": {},
   "outputs": [],
   "source": [
    "appid_list = user_spec['application_id'].unique()\n",
    "loan_result = loan_result.astype({\"loanapply_insert_time\":'datetime64'}).loc[(loan_result['loan_limit'].notnull()) & (loan_result['application_id'].isin(appid_list)),:]"
   ]
  },
  {
   "cell_type": "code",
   "execution_count": 9,
   "id": "2edcaff3",
   "metadata": {},
   "outputs": [
    {
     "data": {
      "text/plain": [
       "application_id                 0\n",
       "loanapply_insert_time          0\n",
       "bank_id                        0\n",
       "product_id                     0\n",
       "loan_limit                     0\n",
       "loan_rate                      0\n",
       "is_applied               3224661\n",
       "dtype: int64"
      ]
     },
     "execution_count": 9,
     "metadata": {},
     "output_type": "execute_result"
    }
   ],
   "source": [
    "loan_result.isnull().sum()"
   ]
  },
  {
   "cell_type": "markdown",
   "id": "9b23e6f1",
   "metadata": {},
   "source": [
    "한도조회 일시를 나타내는 `loanapply_insert_time` 변수가 object 형태로 저장되어 있어 `datetime64`로 정리함.  \n",
    "`loan_limit`과 `loan_rate`가 결측인 경우를 제외한다. 그리고, `user_spec`에 없는 `application_id`를 가진 경우 또한 제외한다."
   ]
  },
  {
   "cell_type": "code",
   "execution_count": 5,
   "id": "b4d89051-ad1d-4b96-aa3c-734e27f07fb4",
   "metadata": {
    "id": "b4d89051-ad1d-4b96-aa3c-734e27f07fb4",
    "outputId": "90ac47a6-4aa7-4795-9c3e-b7eebfdb809d"
   },
   "outputs": [
    {
     "name": "stdout",
     "output_type": "stream",
     "text": [
      "<class 'pandas.core.frame.DataFrame'>\n",
      "RangeIndex: 13527363 entries, 0 to 13527362\n",
      "Data columns (total 7 columns):\n",
      " #   Column                 Dtype         \n",
      "---  ------                 -----         \n",
      " 0   application_id         int64         \n",
      " 1   loanapply_insert_time  datetime64[ns]\n",
      " 2   bank_id                int64         \n",
      " 3   product_id             int64         \n",
      " 4   loan_limit             float64       \n",
      " 5   loan_rate              float64       \n",
      " 6   is_applied             float64       \n",
      "dtypes: datetime64[ns](1), float64(3), int64(3)\n",
      "memory usage: 722.4 MB\n"
     ]
    }
   ],
   "source": [
    "loan_result.info()"
   ]
  },
  {
   "cell_type": "code",
   "execution_count": 10,
   "id": "ab24d2c8",
   "metadata": {},
   "outputs": [],
   "source": [
    "loan_result_train = loan_result.loc[loan_result[\"is_applied\"].notnull(),]\n",
    "loan_result_test = loan_result.loc[loan_result[\"is_applied\"].isnull(),]"
   ]
  },
  {
   "cell_type": "code",
   "execution_count": 11,
   "id": "6af0e9fc-5d94-4e50-acba-66b75a625dda",
   "metadata": {
    "id": "6af0e9fc-5d94-4e50-acba-66b75a625dda",
    "outputId": "0cb3609f-6dff-4ee7-8f95-7f8697ac954d"
   },
   "outputs": [
    {
     "name": "stdout",
     "output_type": "stream",
     "text": [
      "0.0    9636353\n",
      "1.0     551045\n",
      "Name: is_applied, dtype: int64\n",
      "0.0    0.945909\n",
      "1.0    0.054091\n",
      "Name: is_applied, dtype: float64\n"
     ]
    }
   ],
   "source": [
    "print(loan_result[\"is_applied\"].value_counts())\n",
    "print(loan_result[\"is_applied\"].value_counts(normalize=True))"
   ]
  },
  {
   "cell_type": "markdown",
   "id": "7cea70db-86b5-4129-92f9-653bc7155311",
   "metadata": {
    "id": "7cea70db-86b5-4129-92f9-653bc7155311"
   },
   "source": [
    "NaN 값이 아닌 **신청 여부(is_applied)** 값들 중 대략 94.5%가 신청을 하지 않았고, 5.5%가 신청을 하였다.  \n",
    "1의 비율이 적으므로 이를 고려할 수 있는 모델을 만드는 것이 중요해보인다."
   ]
  },
  {
   "cell_type": "markdown",
   "id": "a0eae33a-c490-4fc1-9741-14b2bdbfde6f",
   "metadata": {
    "id": "a0eae33a-c490-4fc1-9741-14b2bdbfde6f"
   },
   "source": [
    "  "
   ]
  },
  {
   "cell_type": "markdown",
   "id": "5deed2fe-1219-4e2e-afde-0800395698c1",
   "metadata": {
    "id": "5deed2fe-1219-4e2e-afde-0800395698c1",
    "tags": []
   },
   "source": [
    "### 2-2) log_data"
   ]
  },
  {
   "cell_type": "markdown",
   "id": "ae610082-a3ae-400e-a90e-a5203c5432a8",
   "metadata": {
    "id": "ae610082-a3ae-400e-a90e-a5203c5432a8"
   },
   "source": [
    "![log_data](../img/log_data_describe.png)"
   ]
  },
  {
   "cell_type": "code",
   "execution_count": 8,
   "id": "5bd8a7dc-8225-48cf-9ba5-9da38e2b6971",
   "metadata": {
    "id": "5bd8a7dc-8225-48cf-9ba5-9da38e2b6971",
    "outputId": "ceea2217-190b-4f61-89c6-f4a672f2ffe8"
   },
   "outputs": [
    {
     "data": {
      "text/html": [
       "<div>\n",
       "<style scoped>\n",
       "    .dataframe tbody tr th:only-of-type {\n",
       "        vertical-align: middle;\n",
       "    }\n",
       "\n",
       "    .dataframe tbody tr th {\n",
       "        vertical-align: top;\n",
       "    }\n",
       "\n",
       "    .dataframe thead th {\n",
       "        text-align: right;\n",
       "    }\n",
       "</style>\n",
       "<table border=\"1\" class=\"dataframe\">\n",
       "  <thead>\n",
       "    <tr style=\"text-align: right;\">\n",
       "      <th></th>\n",
       "      <th>user_id</th>\n",
       "      <th>event</th>\n",
       "      <th>timestamp</th>\n",
       "      <th>mp_os</th>\n",
       "      <th>mp_app_version</th>\n",
       "      <th>date_cd</th>\n",
       "    </tr>\n",
       "  </thead>\n",
       "  <tbody>\n",
       "    <tr>\n",
       "      <th>0</th>\n",
       "      <td>576409</td>\n",
       "      <td>StartLoanApply</td>\n",
       "      <td>2022-03-25 11:12:09</td>\n",
       "      <td>Android</td>\n",
       "      <td>3.8.2</td>\n",
       "      <td>2022-03-25</td>\n",
       "    </tr>\n",
       "    <tr>\n",
       "      <th>1</th>\n",
       "      <td>576409</td>\n",
       "      <td>ViewLoanApplyIntro</td>\n",
       "      <td>2022-03-25 11:12:09</td>\n",
       "      <td>Android</td>\n",
       "      <td>3.8.2</td>\n",
       "      <td>2022-03-25</td>\n",
       "    </tr>\n",
       "    <tr>\n",
       "      <th>2</th>\n",
       "      <td>72878</td>\n",
       "      <td>EndLoanApply</td>\n",
       "      <td>2022-03-25 11:14:44</td>\n",
       "      <td>Android</td>\n",
       "      <td>3.8.4</td>\n",
       "      <td>2022-03-25</td>\n",
       "    </tr>\n",
       "    <tr>\n",
       "      <th>3</th>\n",
       "      <td>645317</td>\n",
       "      <td>OpenApp</td>\n",
       "      <td>2022-03-25 11:15:09</td>\n",
       "      <td>iOS</td>\n",
       "      <td>3.6.1</td>\n",
       "      <td>2022-03-25</td>\n",
       "    </tr>\n",
       "    <tr>\n",
       "      <th>4</th>\n",
       "      <td>645317</td>\n",
       "      <td>UseLoanManage</td>\n",
       "      <td>2022-03-25 11:15:11</td>\n",
       "      <td>iOS</td>\n",
       "      <td>3.6.1</td>\n",
       "      <td>2022-03-25</td>\n",
       "    </tr>\n",
       "    <tr>\n",
       "      <th>...</th>\n",
       "      <td>...</td>\n",
       "      <td>...</td>\n",
       "      <td>...</td>\n",
       "      <td>...</td>\n",
       "      <td>...</td>\n",
       "      <td>...</td>\n",
       "    </tr>\n",
       "    <tr>\n",
       "      <th>17843988</th>\n",
       "      <td>242442</td>\n",
       "      <td>StartLoanApply</td>\n",
       "      <td>2022-05-27 16:08:21</td>\n",
       "      <td>Android</td>\n",
       "      <td>3.13.0</td>\n",
       "      <td>2022-05-27</td>\n",
       "    </tr>\n",
       "    <tr>\n",
       "      <th>17843989</th>\n",
       "      <td>242442</td>\n",
       "      <td>EndLoanApply</td>\n",
       "      <td>2022-05-27 16:08:21</td>\n",
       "      <td>Android</td>\n",
       "      <td>3.13.0</td>\n",
       "      <td>2022-05-27</td>\n",
       "    </tr>\n",
       "    <tr>\n",
       "      <th>17843990</th>\n",
       "      <td>593062</td>\n",
       "      <td>OpenApp</td>\n",
       "      <td>2022-05-27 16:19:10</td>\n",
       "      <td>Android</td>\n",
       "      <td>3.13.0</td>\n",
       "      <td>2022-05-27</td>\n",
       "    </tr>\n",
       "    <tr>\n",
       "      <th>17843991</th>\n",
       "      <td>593062</td>\n",
       "      <td>Login</td>\n",
       "      <td>2022-05-27 16:19:15</td>\n",
       "      <td>Android</td>\n",
       "      <td>3.13.0</td>\n",
       "      <td>2022-05-27</td>\n",
       "    </tr>\n",
       "    <tr>\n",
       "      <th>17843992</th>\n",
       "      <td>593062</td>\n",
       "      <td>UseLoanManage</td>\n",
       "      <td>2022-05-27 16:19:19</td>\n",
       "      <td>Android</td>\n",
       "      <td>3.13.0</td>\n",
       "      <td>2022-05-27</td>\n",
       "    </tr>\n",
       "  </tbody>\n",
       "</table>\n",
       "<p>17843993 rows × 6 columns</p>\n",
       "</div>"
      ],
      "text/plain": [
       "          user_id               event            timestamp    mp_os  \\\n",
       "0          576409      StartLoanApply  2022-03-25 11:12:09  Android   \n",
       "1          576409  ViewLoanApplyIntro  2022-03-25 11:12:09  Android   \n",
       "2           72878        EndLoanApply  2022-03-25 11:14:44  Android   \n",
       "3          645317             OpenApp  2022-03-25 11:15:09      iOS   \n",
       "4          645317       UseLoanManage  2022-03-25 11:15:11      iOS   \n",
       "...           ...                 ...                  ...      ...   \n",
       "17843988   242442      StartLoanApply  2022-05-27 16:08:21  Android   \n",
       "17843989   242442        EndLoanApply  2022-05-27 16:08:21  Android   \n",
       "17843990   593062             OpenApp  2022-05-27 16:19:10  Android   \n",
       "17843991   593062               Login  2022-05-27 16:19:15  Android   \n",
       "17843992   593062       UseLoanManage  2022-05-27 16:19:19  Android   \n",
       "\n",
       "         mp_app_version     date_cd  \n",
       "0                 3.8.2  2022-03-25  \n",
       "1                 3.8.2  2022-03-25  \n",
       "2                 3.8.4  2022-03-25  \n",
       "3                 3.6.1  2022-03-25  \n",
       "4                 3.6.1  2022-03-25  \n",
       "...                 ...         ...  \n",
       "17843988         3.13.0  2022-05-27  \n",
       "17843989         3.13.0  2022-05-27  \n",
       "17843990         3.13.0  2022-05-27  \n",
       "17843991         3.13.0  2022-05-27  \n",
       "17843992         3.13.0  2022-05-27  \n",
       "\n",
       "[17843993 rows x 6 columns]"
      ]
     },
     "execution_count": 8,
     "metadata": {},
     "output_type": "execute_result"
    }
   ],
   "source": [
    "log_data"
   ]
  },
  {
   "cell_type": "markdown",
   "id": "c448f79d-c738-4a79-b887-75c797e7ba72",
   "metadata": {
    "id": "c448f79d-c738-4a79-b887-75c797e7ba72"
   },
   "source": [
    "17,843,993 행과 6열로 데이터의 행 개수가 많음"
   ]
  },
  {
   "cell_type": "code",
   "execution_count": 9,
   "id": "5ea6fd31-bdbf-4d77-9901-f37ab89a204e",
   "metadata": {
    "id": "5ea6fd31-bdbf-4d77-9901-f37ab89a204e",
    "outputId": "87f4b352-41ab-4bc0-9ce7-97958518817d"
   },
   "outputs": [
    {
     "name": "stdout",
     "output_type": "stream",
     "text": [
      "<class 'pandas.core.frame.DataFrame'>\n",
      "RangeIndex: 17843993 entries, 0 to 17843992\n",
      "Data columns (total 6 columns):\n",
      " #   Column          Dtype \n",
      "---  ------          ----- \n",
      " 0   user_id         int64 \n",
      " 1   event           object\n",
      " 2   timestamp       object\n",
      " 3   mp_os           object\n",
      " 4   mp_app_version  object\n",
      " 5   date_cd         object\n",
      "dtypes: int64(1), object(5)\n",
      "memory usage: 816.8+ MB\n"
     ]
    }
   ],
   "source": [
    "log_data.info()"
   ]
  },
  {
   "cell_type": "code",
   "execution_count": 10,
   "id": "9439158c-2139-4022-8b59-e72dba20f13a",
   "metadata": {},
   "outputs": [],
   "source": [
    "log_data = log_data.drop(labels = [\"mp_os\", \"mp_app_version\",\"date_cd\"], axis = 1).astype({'timestamp':'datetime64'})"
   ]
  },
  {
   "cell_type": "markdown",
   "id": "22bb3ff5-d989-4b89-a49a-8b0a8a932db0",
   "metadata": {
    "id": "22bb3ff5-d989-4b89-a49a-8b0a8a932db0",
    "tags": []
   },
   "source": [
    "행동일시를 나타내는 `timestamp` 가 object 형태이므로 `datetime64`로 정리할 필요가 있어보임. 그리고, 사용 기종과 어플리케이션 버전이 크게 유의미하지 않을 것이라 생각되고, `data_cd`는 `timestamp`에 포함되므로 삭제한다."
   ]
  },
  {
   "cell_type": "code",
   "execution_count": 11,
   "id": "075c1a26-d2b8-4c2e-a261-e998f25bfcbd",
   "metadata": {
    "id": "075c1a26-d2b8-4c2e-a261-e998f25bfcbd",
    "outputId": "82480d34-32e0-4564-a6bb-feb638b95f47",
    "tags": []
   },
   "outputs": [
    {
     "data": {
      "text/plain": [
       "OpenApp                    3460762\n",
       "EndLoanApply               2715253\n",
       "GetCreditInfo              2661997\n",
       "Login                      2463755\n",
       "StartLoanApply             1893914\n",
       "ViewLoanApplyIntro         1804712\n",
       "UseLoanManage              1558906\n",
       "CompleteIDCertification    1237777\n",
       "SignUp                       34892\n",
       "UsePrepayCalc                 7360\n",
       "UseDSRCalc                    4665\n",
       "Name: event, dtype: int64"
      ]
     },
     "execution_count": 11,
     "metadata": {},
     "output_type": "execute_result"
    }
   ],
   "source": [
    "log_data[\"event\"].value_counts()"
   ]
  },
  {
   "cell_type": "code",
   "execution_count": 17,
   "id": "ae871816",
   "metadata": {},
   "outputs": [
    {
     "data": {
      "text/plain": [
       "user_id      0\n",
       "event        0\n",
       "timestamp    0\n",
       "dtype: int64"
      ]
     },
     "execution_count": 17,
     "metadata": {},
     "output_type": "execute_result"
    }
   ],
   "source": [
    "log_data.isnull().sum()"
   ]
  },
  {
   "cell_type": "markdown",
   "id": "ebf95c90-eebc-4515-b443-8db4004def92",
   "metadata": {
    "id": "ebf95c90-eebc-4515-b443-8db4004def92"
   },
   "source": [
    "  "
   ]
  },
  {
   "cell_type": "markdown",
   "id": "2e3c23ee-0686-4cfe-8acc-8625f3423632",
   "metadata": {
    "id": "2e3c23ee-0686-4cfe-8acc-8625f3423632"
   },
   "source": [
    "### 2-3) user_spec"
   ]
  },
  {
   "cell_type": "markdown",
   "id": "120559b7-f6ff-4fcb-8ffc-7321a93e9a1c",
   "metadata": {
    "id": "120559b7-f6ff-4fcb-8ffc-7321a93e9a1c"
   },
   "source": [
    "![user_spec](../img/user_spec_describe.png)"
   ]
  },
  {
   "cell_type": "code",
   "execution_count": 12,
   "id": "0a7b0876-9769-469e-a886-8f86bd7928b2",
   "metadata": {
    "id": "0a7b0876-9769-469e-a886-8f86bd7928b2",
    "outputId": "2e2f6414-fb1e-4170-e5a4-0d5eacbb8248"
   },
   "outputs": [
    {
     "data": {
      "text/html": [
       "<div>\n",
       "<style scoped>\n",
       "    .dataframe tbody tr th:only-of-type {\n",
       "        vertical-align: middle;\n",
       "    }\n",
       "\n",
       "    .dataframe tbody tr th {\n",
       "        vertical-align: top;\n",
       "    }\n",
       "\n",
       "    .dataframe thead th {\n",
       "        text-align: right;\n",
       "    }\n",
       "</style>\n",
       "<table border=\"1\" class=\"dataframe\">\n",
       "  <thead>\n",
       "    <tr style=\"text-align: right;\">\n",
       "      <th></th>\n",
       "      <th>Unnamed: 0</th>\n",
       "      <th>application_id</th>\n",
       "      <th>user_id</th>\n",
       "      <th>insert_time</th>\n",
       "      <th>credit_score</th>\n",
       "      <th>yearly_income</th>\n",
       "      <th>income_type</th>\n",
       "      <th>company_enter_month</th>\n",
       "      <th>employment_type</th>\n",
       "      <th>houseown_type</th>\n",
       "      <th>desired_amount</th>\n",
       "      <th>purpose</th>\n",
       "      <th>personal_rehabilitation_yn</th>\n",
       "      <th>personal_rehabilitation_complete_yn</th>\n",
       "      <th>existing_loan_cnt</th>\n",
       "      <th>existing_loan_amt</th>\n",
       "      <th>birth_year</th>\n",
       "      <th>gender</th>\n",
       "    </tr>\n",
       "  </thead>\n",
       "  <tbody>\n",
       "    <tr>\n",
       "      <th>0</th>\n",
       "      <td>1</td>\n",
       "      <td>1249046</td>\n",
       "      <td>118218</td>\n",
       "      <td>2022-06-07 06:28:18</td>\n",
       "      <td>660.0</td>\n",
       "      <td>108000000.0</td>\n",
       "      <td>PRIVATEBUSINESS</td>\n",
       "      <td>201511</td>\n",
       "      <td>기타</td>\n",
       "      <td>자가</td>\n",
       "      <td>1000000.0</td>\n",
       "      <td>기타</td>\n",
       "      <td>0.0</td>\n",
       "      <td>NaN</td>\n",
       "      <td>4</td>\n",
       "      <td>162000000.0</td>\n",
       "      <td>1985</td>\n",
       "      <td>1</td>\n",
       "    </tr>\n",
       "    <tr>\n",
       "      <th>1</th>\n",
       "      <td>2</td>\n",
       "      <td>954900</td>\n",
       "      <td>553686</td>\n",
       "      <td>2022-06-07 14:29:03</td>\n",
       "      <td>870.0</td>\n",
       "      <td>30000000.0</td>\n",
       "      <td>PRIVATEBUSINESS</td>\n",
       "      <td>200702</td>\n",
       "      <td>정규직</td>\n",
       "      <td>기타가족소유</td>\n",
       "      <td>30000000.0</td>\n",
       "      <td>대환대출</td>\n",
       "      <td>0.0</td>\n",
       "      <td>NaN</td>\n",
       "      <td>1</td>\n",
       "      <td>27000000.0</td>\n",
       "      <td>1968</td>\n",
       "      <td>1</td>\n",
       "    </tr>\n",
       "    <tr>\n",
       "      <th>2</th>\n",
       "      <td>3</td>\n",
       "      <td>137274</td>\n",
       "      <td>59516</td>\n",
       "      <td>2022-06-07 21:40:22</td>\n",
       "      <td>710.0</td>\n",
       "      <td>30000000.0</td>\n",
       "      <td>FREELANCER</td>\n",
       "      <td>202109</td>\n",
       "      <td>기타</td>\n",
       "      <td>기타가족소유</td>\n",
       "      <td>10000000.0</td>\n",
       "      <td>생활비</td>\n",
       "      <td>0.0</td>\n",
       "      <td>NaN</td>\n",
       "      <td>5</td>\n",
       "      <td>15000000.0</td>\n",
       "      <td>1997</td>\n",
       "      <td>1</td>\n",
       "    </tr>\n",
       "    <tr>\n",
       "      <th>3</th>\n",
       "      <td>4</td>\n",
       "      <td>1570936</td>\n",
       "      <td>167320</td>\n",
       "      <td>2022-06-07 09:40:27</td>\n",
       "      <td>820.0</td>\n",
       "      <td>62000000.0</td>\n",
       "      <td>EARNEDINCOME</td>\n",
       "      <td>201701</td>\n",
       "      <td>정규직</td>\n",
       "      <td>자가</td>\n",
       "      <td>2000000.0</td>\n",
       "      <td>생활비</td>\n",
       "      <td>0.0</td>\n",
       "      <td>NaN</td>\n",
       "      <td>7</td>\n",
       "      <td>344000000.0</td>\n",
       "      <td>1989</td>\n",
       "      <td>1</td>\n",
       "    </tr>\n",
       "    <tr>\n",
       "      <th>4</th>\n",
       "      <td>5</td>\n",
       "      <td>967833</td>\n",
       "      <td>33400</td>\n",
       "      <td>2022-06-07 08:55:07</td>\n",
       "      <td>630.0</td>\n",
       "      <td>36000000.0</td>\n",
       "      <td>EARNEDINCOME</td>\n",
       "      <td>202109</td>\n",
       "      <td>정규직</td>\n",
       "      <td>기타가족소유</td>\n",
       "      <td>5000000.0</td>\n",
       "      <td>생활비</td>\n",
       "      <td>0.0</td>\n",
       "      <td>0.0</td>\n",
       "      <td>1</td>\n",
       "      <td>16000000.0</td>\n",
       "      <td>2000</td>\n",
       "      <td>1</td>\n",
       "    </tr>\n",
       "    <tr>\n",
       "      <th>...</th>\n",
       "      <td>...</td>\n",
       "      <td>...</td>\n",
       "      <td>...</td>\n",
       "      <td>...</td>\n",
       "      <td>...</td>\n",
       "      <td>...</td>\n",
       "      <td>...</td>\n",
       "      <td>...</td>\n",
       "      <td>...</td>\n",
       "      <td>...</td>\n",
       "      <td>...</td>\n",
       "      <td>...</td>\n",
       "      <td>...</td>\n",
       "      <td>...</td>\n",
       "      <td>...</td>\n",
       "      <td>...</td>\n",
       "      <td>...</td>\n",
       "      <td>...</td>\n",
       "    </tr>\n",
       "    <tr>\n",
       "      <th>1384398</th>\n",
       "      <td>1384488</td>\n",
       "      <td>1864587</td>\n",
       "      <td>489900</td>\n",
       "      <td>2022-03-22 14:55:32</td>\n",
       "      <td>590.0</td>\n",
       "      <td>25000000.0</td>\n",
       "      <td>FREELANCER</td>\n",
       "      <td>202106</td>\n",
       "      <td>기타</td>\n",
       "      <td>기타가족소유</td>\n",
       "      <td>5000000.0</td>\n",
       "      <td>사업자금</td>\n",
       "      <td>NaN</td>\n",
       "      <td>NaN</td>\n",
       "      <td>0</td>\n",
       "      <td>NaN</td>\n",
       "      <td>2000</td>\n",
       "      <td>1</td>\n",
       "    </tr>\n",
       "    <tr>\n",
       "      <th>1384399</th>\n",
       "      <td>1384489</td>\n",
       "      <td>1327066</td>\n",
       "      <td>151422</td>\n",
       "      <td>2022-03-22 01:19:24</td>\n",
       "      <td>980.0</td>\n",
       "      <td>20000000.0</td>\n",
       "      <td>OTHERINCOME</td>\n",
       "      <td>0</td>\n",
       "      <td>기타</td>\n",
       "      <td>자가</td>\n",
       "      <td>50000000.0</td>\n",
       "      <td>생활비</td>\n",
       "      <td>NaN</td>\n",
       "      <td>NaN</td>\n",
       "      <td>1</td>\n",
       "      <td>NaN</td>\n",
       "      <td>1955</td>\n",
       "      <td>1</td>\n",
       "    </tr>\n",
       "    <tr>\n",
       "      <th>1384400</th>\n",
       "      <td>1384490</td>\n",
       "      <td>1319606</td>\n",
       "      <td>173524</td>\n",
       "      <td>2022-03-22 07:34:32</td>\n",
       "      <td>750.0</td>\n",
       "      <td>75000000.0</td>\n",
       "      <td>EARNEDINCOME</td>\n",
       "      <td>200908</td>\n",
       "      <td>정규직</td>\n",
       "      <td>자가</td>\n",
       "      <td>100000000.0</td>\n",
       "      <td>대환대출</td>\n",
       "      <td>NaN</td>\n",
       "      <td>NaN</td>\n",
       "      <td>8</td>\n",
       "      <td>200000000.0</td>\n",
       "      <td>1983</td>\n",
       "      <td>1</td>\n",
       "    </tr>\n",
       "    <tr>\n",
       "      <th>1384401</th>\n",
       "      <td>1384491</td>\n",
       "      <td>1482466</td>\n",
       "      <td>766546</td>\n",
       "      <td>2022-03-22 22:12:35</td>\n",
       "      <td>640.0</td>\n",
       "      <td>50000000.0</td>\n",
       "      <td>EARNEDINCOME</td>\n",
       "      <td>201705</td>\n",
       "      <td>정규직</td>\n",
       "      <td>자가</td>\n",
       "      <td>10000000.0</td>\n",
       "      <td>대환대출</td>\n",
       "      <td>NaN</td>\n",
       "      <td>NaN</td>\n",
       "      <td>10</td>\n",
       "      <td>117000000.0</td>\n",
       "      <td>1975</td>\n",
       "      <td>1</td>\n",
       "    </tr>\n",
       "    <tr>\n",
       "      <th>1384402</th>\n",
       "      <td>1384492</td>\n",
       "      <td>816537</td>\n",
       "      <td>3864</td>\n",
       "      <td>2022-03-22 08:55:14</td>\n",
       "      <td>NaN</td>\n",
       "      <td>35000000.0</td>\n",
       "      <td>FREELANCER</td>\n",
       "      <td>201103</td>\n",
       "      <td>기타</td>\n",
       "      <td>자가</td>\n",
       "      <td>20000000.0</td>\n",
       "      <td>생활비</td>\n",
       "      <td>NaN</td>\n",
       "      <td>NaN</td>\n",
       "      <td>0</td>\n",
       "      <td>NaN</td>\n",
       "      <td>1977</td>\n",
       "      <td>0</td>\n",
       "    </tr>\n",
       "  </tbody>\n",
       "</table>\n",
       "<p>1384403 rows × 18 columns</p>\n",
       "</div>"
      ],
      "text/plain": [
       "         Unnamed: 0  application_id  user_id          insert_time  \\\n",
       "0                 1         1249046   118218  2022-06-07 06:28:18   \n",
       "1                 2          954900   553686  2022-06-07 14:29:03   \n",
       "2                 3          137274    59516  2022-06-07 21:40:22   \n",
       "3                 4         1570936   167320  2022-06-07 09:40:27   \n",
       "4                 5          967833    33400  2022-06-07 08:55:07   \n",
       "...             ...             ...      ...                  ...   \n",
       "1384398     1384488         1864587   489900  2022-03-22 14:55:32   \n",
       "1384399     1384489         1327066   151422  2022-03-22 01:19:24   \n",
       "1384400     1384490         1319606   173524  2022-03-22 07:34:32   \n",
       "1384401     1384491         1482466   766546  2022-03-22 22:12:35   \n",
       "1384402     1384492          816537     3864  2022-03-22 08:55:14   \n",
       "\n",
       "         credit_score  yearly_income      income_type  company_enter_month  \\\n",
       "0               660.0    108000000.0  PRIVATEBUSINESS               201511   \n",
       "1               870.0     30000000.0  PRIVATEBUSINESS               200702   \n",
       "2               710.0     30000000.0       FREELANCER               202109   \n",
       "3               820.0     62000000.0     EARNEDINCOME               201701   \n",
       "4               630.0     36000000.0     EARNEDINCOME               202109   \n",
       "...               ...            ...              ...                  ...   \n",
       "1384398         590.0     25000000.0       FREELANCER               202106   \n",
       "1384399         980.0     20000000.0      OTHERINCOME                    0   \n",
       "1384400         750.0     75000000.0     EARNEDINCOME               200908   \n",
       "1384401         640.0     50000000.0     EARNEDINCOME               201705   \n",
       "1384402           NaN     35000000.0       FREELANCER               201103   \n",
       "\n",
       "        employment_type houseown_type  desired_amount purpose  \\\n",
       "0                    기타            자가       1000000.0      기타   \n",
       "1                   정규직        기타가족소유      30000000.0    대환대출   \n",
       "2                    기타        기타가족소유      10000000.0     생활비   \n",
       "3                   정규직            자가       2000000.0     생활비   \n",
       "4                   정규직        기타가족소유       5000000.0     생활비   \n",
       "...                 ...           ...             ...     ...   \n",
       "1384398              기타        기타가족소유       5000000.0    사업자금   \n",
       "1384399              기타            자가      50000000.0     생활비   \n",
       "1384400             정규직            자가     100000000.0    대환대출   \n",
       "1384401             정규직            자가      10000000.0    대환대출   \n",
       "1384402              기타            자가      20000000.0     생활비   \n",
       "\n",
       "         personal_rehabilitation_yn  personal_rehabilitation_complete_yn  \\\n",
       "0                               0.0                                  NaN   \n",
       "1                               0.0                                  NaN   \n",
       "2                               0.0                                  NaN   \n",
       "3                               0.0                                  NaN   \n",
       "4                               0.0                                  0.0   \n",
       "...                             ...                                  ...   \n",
       "1384398                         NaN                                  NaN   \n",
       "1384399                         NaN                                  NaN   \n",
       "1384400                         NaN                                  NaN   \n",
       "1384401                         NaN                                  NaN   \n",
       "1384402                         NaN                                  NaN   \n",
       "\n",
       "         existing_loan_cnt  existing_loan_amt  birth_year  gender  \n",
       "0                        4        162000000.0        1985       1  \n",
       "1                        1         27000000.0        1968       1  \n",
       "2                        5         15000000.0        1997       1  \n",
       "3                        7        344000000.0        1989       1  \n",
       "4                        1         16000000.0        2000       1  \n",
       "...                    ...                ...         ...     ...  \n",
       "1384398                  0                NaN        2000       1  \n",
       "1384399                  1                NaN        1955       1  \n",
       "1384400                  8        200000000.0        1983       1  \n",
       "1384401                 10        117000000.0        1975       1  \n",
       "1384402                  0                NaN        1977       0  \n",
       "\n",
       "[1384403 rows x 18 columns]"
      ]
     },
     "execution_count": 12,
     "metadata": {},
     "output_type": "execute_result"
    }
   ],
   "source": [
    "user_spec"
   ]
  },
  {
   "cell_type": "markdown",
   "id": "31758f10-dc81-42ad-923f-1b8ed3f41d74",
   "metadata": {
    "id": "31758f10-dc81-42ad-923f-1b8ed3f41d74"
   },
   "source": [
    "1,394,216 행과 17열로 각 행이 한 사람에 대한 정보를 뜻함"
   ]
  },
  {
   "cell_type": "code",
   "execution_count": 13,
   "id": "c259d739",
   "metadata": {},
   "outputs": [
    {
     "name": "stdout",
     "output_type": "stream",
     "text": [
      "<class 'pandas.core.frame.DataFrame'>\n",
      "RangeIndex: 1384403 entries, 0 to 1384402\n",
      "Data columns (total 18 columns):\n",
      " #   Column                               Non-Null Count    Dtype  \n",
      "---  ------                               --------------    -----  \n",
      " 0   Unnamed: 0                           1384403 non-null  int64  \n",
      " 1   application_id                       1384403 non-null  int64  \n",
      " 2   user_id                              1384403 non-null  int64  \n",
      " 3   insert_time                          1384403 non-null  object \n",
      " 4   credit_score                         1280926 non-null  float64\n",
      " 5   yearly_income                        1384403 non-null  float64\n",
      " 6   income_type                          1384403 non-null  object \n",
      " 7   company_enter_month                  1384403 non-null  int64  \n",
      " 8   employment_type                      1384403 non-null  object \n",
      " 9   houseown_type                        1384403 non-null  object \n",
      " 10  desired_amount                       1384403 non-null  float64\n",
      " 11  purpose                              1384403 non-null  object \n",
      " 12  personal_rehabilitation_yn           800898 non-null   float64\n",
      " 13  personal_rehabilitation_complete_yn  189047 non-null   float64\n",
      " 14  existing_loan_cnt                    1384403 non-null  int64  \n",
      " 15  existing_loan_amt                    1076111 non-null  float64\n",
      " 16  birth_year                           1384403 non-null  int64  \n",
      " 17  gender                               1384403 non-null  int64  \n",
      "dtypes: float64(6), int64(7), object(5)\n",
      "memory usage: 190.1+ MB\n"
     ]
    }
   ],
   "source": [
    "user_spec.info()"
   ]
  },
  {
   "cell_type": "code",
   "execution_count": 14,
   "id": "c1aa5c44-c1a3-4c79-a0d0-631cd879b96b",
   "metadata": {},
   "outputs": [],
   "source": [
    "user_spec = user_spec.astype({user_spec.columns[3]:'datetime64'}).drop('Unnamed: 0', axis = 1)"
   ]
  },
  {
   "cell_type": "markdown",
   "id": "c3ec767c-f38e-442d-9e9d-f917f004e682",
   "metadata": {},
   "source": [
    "적절히 `dtype`을 변경하고, 시간을 나타내는 변수들에 대해서 적당히 `datetime64`로 변경한다."
   ]
  },
  {
   "cell_type": "code",
   "execution_count": 15,
   "id": "25b87809-deff-4dc2-b49a-8cf08377dfd2",
   "metadata": {
    "id": "25b87809-deff-4dc2-b49a-8cf08377dfd2",
    "outputId": "fc50677e-a82e-4807-a1f9-cb867d427a4e",
    "scrolled": false
   },
   "outputs": [
    {
     "name": "stdout",
     "output_type": "stream",
     "text": [
      "<class 'pandas.core.frame.DataFrame'>\n",
      "RangeIndex: 1384403 entries, 0 to 1384402\n",
      "Data columns (total 17 columns):\n",
      " #   Column                               Non-Null Count    Dtype         \n",
      "---  ------                               --------------    -----         \n",
      " 0   application_id                       1384403 non-null  int64         \n",
      " 1   user_id                              1384403 non-null  int64         \n",
      " 2   insert_time                          1384403 non-null  datetime64[ns]\n",
      " 3   credit_score                         1280926 non-null  float64       \n",
      " 4   yearly_income                        1384403 non-null  float64       \n",
      " 5   income_type                          1384403 non-null  object        \n",
      " 6   company_enter_month                  1384403 non-null  int64         \n",
      " 7   employment_type                      1384403 non-null  object        \n",
      " 8   houseown_type                        1384403 non-null  object        \n",
      " 9   desired_amount                       1384403 non-null  float64       \n",
      " 10  purpose                              1384403 non-null  object        \n",
      " 11  personal_rehabilitation_yn           800898 non-null   float64       \n",
      " 12  personal_rehabilitation_complete_yn  189047 non-null   float64       \n",
      " 13  existing_loan_cnt                    1384403 non-null  int64         \n",
      " 14  existing_loan_amt                    1076111 non-null  float64       \n",
      " 15  birth_year                           1384403 non-null  int64         \n",
      " 16  gender                               1384403 non-null  int64         \n",
      "dtypes: datetime64[ns](1), float64(6), int64(6), object(4)\n",
      "memory usage: 179.6+ MB\n"
     ]
    }
   ],
   "source": [
    "user_spec.info()"
   ]
  },
  {
   "cell_type": "code",
   "execution_count": 16,
   "id": "b3fa25b6-a78a-4a1f-9e9b-8e2ebce1d789",
   "metadata": {
    "id": "b3fa25b6-a78a-4a1f-9e9b-8e2ebce1d789",
    "outputId": "81003749-c43f-4898-8453-69f59e4fd85c",
    "scrolled": false
   },
   "outputs": [
    {
     "data": {
      "text/plain": [
       "application_id                               0\n",
       "user_id                                      0\n",
       "insert_time                                  0\n",
       "credit_score                            103477\n",
       "yearly_income                                0\n",
       "income_type                                  0\n",
       "company_enter_month                          0\n",
       "employment_type                              0\n",
       "houseown_type                                0\n",
       "desired_amount                               0\n",
       "purpose                                      0\n",
       "personal_rehabilitation_yn              583505\n",
       "personal_rehabilitation_complete_yn    1195356\n",
       "existing_loan_cnt                            0\n",
       "existing_loan_amt                       308292\n",
       "birth_year                                   0\n",
       "gender                                       0\n",
       "dtype: int64"
      ]
     },
     "execution_count": 16,
     "metadata": {},
     "output_type": "execute_result"
    }
   ],
   "source": [
    "user_spec.isnull().sum()"
   ]
  },
  {
   "cell_type": "markdown",
   "id": "9cf912d7",
   "metadata": {},
   "source": [
    "## `user_spec` vs `loan_result`"
   ]
  },
  {
   "cell_type": "code",
   "execution_count": 15,
   "id": "6bfc7e32",
   "metadata": {},
   "outputs": [],
   "source": [
    "merged1 = pd.merge(user_spec, loan_result_train, how = 'inner', on = 'application_id')"
   ]
  },
  {
   "cell_type": "code",
   "execution_count": 16,
   "id": "1642836f",
   "metadata": {},
   "outputs": [
    {
     "data": {
      "text/plain": [
       "Index(['Unnamed: 0', 'application_id', 'user_id', 'insert_time',\n",
       "       'credit_score', 'yearly_income', 'income_type', 'company_enter_month',\n",
       "       'employment_type', 'houseown_type', 'desired_amount', 'purpose',\n",
       "       'personal_rehabilitation_yn', 'personal_rehabilitation_complete_yn',\n",
       "       'existing_loan_cnt', 'existing_loan_amt', 'birth_year', 'gender',\n",
       "       'loanapply_insert_time', 'bank_id', 'product_id', 'loan_limit',\n",
       "       'loan_rate', 'is_applied'],\n",
       "      dtype='object')"
      ]
     },
     "execution_count": 16,
     "metadata": {},
     "output_type": "execute_result"
    }
   ],
   "source": [
    "merged1.columns"
   ]
  },
  {
   "cell_type": "code",
   "execution_count": 18,
   "id": "2f2c4003",
   "metadata": {},
   "outputs": [],
   "source": [
    "colbar = {'정규직':1, '계약직':2, '일용직':3, '기타':4}"
   ]
  },
  {
   "cell_type": "code",
   "execution_count": 21,
   "id": "4e411a15",
   "metadata": {},
   "outputs": [],
   "source": [
    "colbarr = merged1.replace({\"employment_type\":colbar})"
   ]
  },
  {
   "cell_type": "code",
   "execution_count": 27,
   "id": "357c2ba1",
   "metadata": {},
   "outputs": [],
   "source": [
    "%matplotlib inline\n",
    "import matplotlib.pyplot as plt\n",
    "plt.style.use('classic')"
   ]
  },
  {
   "cell_type": "code",
   "execution_count": 30,
   "id": "854ec179",
   "metadata": {},
   "outputs": [
    {
     "data": {
      "text/plain": [
       "158.0"
      ]
     },
     "execution_count": 30,
     "metadata": {},
     "output_type": "execute_result"
    }
   ],
   "source": [
    "loan_result_train[loan_result_train['loan_limit'] == 0]['is_applied'].sum()"
   ]
  },
  {
   "cell_type": "code",
   "execution_count": null,
   "id": "ea3eb48c",
   "metadata": {
    "scrolled": true
   },
   "outputs": [
    {
     "name": "stderr",
     "output_type": "stream",
     "text": [
      "C:\\Users\\tspa9\\anaconda3\\lib\\site-packages\\pandas\\core\\arraylike.py:397: RuntimeWarning: divide by zero encountered in log10\n",
      "  result = getattr(ufunc, method)(*inputs, **kwargs)\n"
     ]
    }
   ],
   "source": [
    "scat = plt.scatter(np.log10(merged1['loan_limit']), merged1['loan_rate'], c = colbarr['employment_type'])\n",
    "#plt.legend[scat ];"
   ]
  }
 ],
 "metadata": {
  "colab": {
   "provenance": []
  },
  "kernelspec": {
   "display_name": "Python 3 (ipykernel)",
   "language": "python",
   "name": "python3"
  },
  "language_info": {
   "codemirror_mode": {
    "name": "ipython",
    "version": 3
   },
   "file_extension": ".py",
   "mimetype": "text/x-python",
   "name": "python",
   "nbconvert_exporter": "python",
   "pygments_lexer": "ipython3",
   "version": "3.9.12"
  },
  "toc-autonumbering": false
 },
 "nbformat": 4,
 "nbformat_minor": 5
}
